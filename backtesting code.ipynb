{
 "cells": [
  {
   "cell_type": "code",
   "execution_count": 21,
   "metadata": {},
   "outputs": [],
   "source": [
    "# Imports\n",
    "import matplotlib.pyplot as plt\n",
    "import yfinance as yf\n",
    "import pandas as pd"
   ]
  },
  {
   "cell_type": "code",
   "execution_count": 6,
   "metadata": {},
   "outputs": [],
   "source": [
    "# Options/Key\n",
    "# q1 = [confident, notAsMuch]\n",
    "# q2 = [stocks, etfs/mutual funds, options, others]\n",
    "# q3 = [specific, industry, index, other]\n",
    "# q4 = [buy, buyAndSell, sell]\n",
    "# q5 = [loseValue, constantInterval, indicator, other]\n",
    "# q6 = [dollarAmt, numShares, portionCash, portionPort]\n",
    "# q7 = [maxTrades, maxDollars, maxExposure, bigLoss]\n",
    "\n",
    "# Question inputs\n",
    "q1 = 0\n",
    "q2 = 0\n",
    "q3 = 0\n",
    "q4 = 0\n",
    "q5 = 0\n",
    "q6 = 0\n",
    "q7 = 0\n",
    "\n",
    "# Account inputs\n",
    "cash_value = 1000\n",
    "holdings = [0, 0, 0, 0, 0]"
   ]
  },
  {
   "cell_type": "code",
   "execution_count": 5,
   "metadata": {},
   "outputs": [
    {
     "name": "stdout",
     "output_type": "stream",
     "text": [
      "[*********************100%***********************]  5 of 5 completed\n"
     ]
    }
   ],
   "source": [
    "# Import the relevant data\n",
    "data = yf.download(\n",
    "    tickers = \"msft aapl amzn goog fb\",\n",
    "    period = \"5y\",\n",
    "    interval = \"1d\",\n",
    "    group_by = 'ticker'    \n",
    "    )"
   ]
  },
  {
   "cell_type": "code",
   "execution_count": 23,
   "metadata": {},
   "outputs": [
    {
     "data": {
      "text/plain": [
       "MultiIndex(levels=[['AMZN', 'AAPL', 'GOOG', 'MSFT', 'FB'], ['Open', 'High', 'Low', 'Close', 'Adj Close', 'Volume']],\n",
       "           codes=[[0, 0, 0, 0, 0, 0, 1, 1, 1, 1, 1, 1, 2, 2, 2, 2, 2, 2, 3, 3, 3, 3, 3, 3, 4, 4, 4, 4, 4, 4], [0, 1, 2, 3, 4, 5, 0, 1, 2, 3, 4, 5, 0, 1, 2, 3, 4, 5, 0, 1, 2, 3, 4, 5, 0, 1, 2, 3, 4, 5]])"
      ]
     },
     "execution_count": 23,
     "metadata": {},
     "output_type": "execute_result"
    }
   ],
   "source": [
    "data.columns"
   ]
  },
  {
   "cell_type": "code",
   "execution_count": null,
   "metadata": {},
   "outputs": [],
   "source": []
  },
  {
   "cell_type": "code",
   "execution_count": null,
   "metadata": {},
   "outputs": [],
   "source": []
  }
 ],
 "metadata": {
  "kernelspec": {
   "display_name": "Python 3",
   "language": "python",
   "name": "python3"
  },
  "language_info": {
   "codemirror_mode": {
    "name": "ipython",
    "version": 3
   },
   "file_extension": ".py",
   "mimetype": "text/x-python",
   "name": "python",
   "nbconvert_exporter": "python",
   "pygments_lexer": "ipython3",
   "version": "3.7.3"
  }
 },
 "nbformat": 4,
 "nbformat_minor": 2
}
